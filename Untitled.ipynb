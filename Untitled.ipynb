{
 "cells": [
  {
   "cell_type": "code",
   "execution_count": 18,
   "metadata": {},
   "outputs": [
    {
     "name": "stdout",
     "output_type": "stream",
     "text": [
      "# # # # \n",
      "# # # # \n",
      "# # # # \n",
      "# # # # \n"
     ]
    }
   ],
   "source": [
    "for i in range(4):\n",
    "    for j in range(4):\n",
    "        print(\"# \",end=\"\")\n",
    "        \n",
    "    print()"
   ]
  },
  {
   "cell_type": "code",
   "execution_count": 39,
   "metadata": {},
   "outputs": [
    {
     "name": "stdout",
     "output_type": "stream",
     "text": [
      "####\n",
      "###\n",
      "##\n",
      "#\n"
     ]
    }
   ],
   "source": [
    "for j in range(4):\n",
    "    for i in range(4-j):\n",
    "        print(\"#\",end=\"\")\n",
    "    print()"
   ]
  },
  {
   "cell_type": "code",
   "execution_count": 128,
   "metadata": {},
   "outputs": [
    {
     "name": "stdout",
     "output_type": "stream",
     "text": [
      "                                        * \n",
      "                                       * * \n",
      "                                      * * * \n",
      "                                     * * * * \n",
      "                                    * * * * * \n",
      "                                   * * * * * * \n",
      "                                  * * * * * * * \n",
      "                                 * * * * * * * * \n",
      "                                * * * * * * * * * \n",
      "                               * * * * * * * * * * \n",
      "                              * * * * * * * * * * * \n",
      "                             * * * * * * * * * * * * \n",
      "                            * * * * * * * * * * * * * \n",
      "                           * * * * * * * * * * * * * * \n",
      "                          * * * * * * * * * * * * * * * \n",
      "                         * * * * * * * * * * * * * * * * \n",
      "                        * * * * * * * * * * * * * * * * * \n",
      "                       * * * * * * * * * * * * * * * * * * \n",
      "                      * * * * * * * * * * * * * * * * * * * \n",
      "                     * * * * * * * * * * * * * * * * * * * * \n",
      "                    * * * * * * * * * * * * * * * * * * * * * \n",
      "                   * * * * * * * * * * * * * * * * * * * * * * \n",
      "                  * * * * * * * * * * * * * * * * * * * * * * * \n",
      "                 * * * * * * * * * * * * * * * * * * * * * * * * \n",
      "                * * * * * * * * * * * * * * * * * * * * * * * * * \n",
      "               * * * * * * * * * * * * * * * * * * * * * * * * * * \n",
      "              * * * * * * * * * * * * * * * * * * * * * * * * * * * \n",
      "             * * * * * * * * * * * * * * * * * * * * * * * * * * * * \n",
      "            * * * * * * * * * * * * * * * * * * * * * * * * * * * * * \n",
      "           * * * * * * * * * * * * * * * * * * * * * * * * * * * * * * \n",
      "          * * * * * * * * * * * * * * * * * * * * * * * * * * * * * * * \n",
      "         * * * * * * * * * * * * * * * * * * * * * * * * * * * * * * * * \n",
      "        * * * * * * * * * * * * * * * * * * * * * * * * * * * * * * * * * \n",
      "       * * * * * * * * * * * * * * * * * * * * * * * * * * * * * * * * * * \n",
      "      * * * * * * * * * * * * * * * * * * * * * * * * * * * * * * * * * * * \n",
      "     * * * * * * * * * * * * * * * * * * * * * * * * * * * * * * * * * * * * \n",
      "    * * * * * * * * * * * * * * * * * * * * * * * * * * * * * * * * * * * * * \n",
      "   * * * * * * * * * * * * * * * * * * * * * * * * * * * * * * * * * * * * * * \n",
      "  * * * * * * * * * * * * * * * * * * * * * * * * * * * * * * * * * * * * * * * \n",
      " * * * * * * * * * * * * * * * * * * * * * * * * * * * * * * * * * * * * * * * * \n",
      "  * * * * * * * * * * * * * * * * * * * * * * * * * * * * * * * * * * * * * * * \n",
      "   * * * * * * * * * * * * * * * * * * * * * * * * * * * * * * * * * * * * * * \n",
      "    * * * * * * * * * * * * * * * * * * * * * * * * * * * * * * * * * * * * * \n",
      "     * * * * * * * * * * * * * * * * * * * * * * * * * * * * * * * * * * * * \n",
      "      * * * * * * * * * * * * * * * * * * * * * * * * * * * * * * * * * * * \n",
      "       * * * * * * * * * * * * * * * * * * * * * * * * * * * * * * * * * * \n",
      "        * * * * * * * * * * * * * * * * * * * * * * * * * * * * * * * * * \n",
      "         * * * * * * * * * * * * * * * * * * * * * * * * * * * * * * * * \n",
      "          * * * * * * * * * * * * * * * * * * * * * * * * * * * * * * * \n",
      "           * * * * * * * * * * * * * * * * * * * * * * * * * * * * * * \n",
      "            * * * * * * * * * * * * * * * * * * * * * * * * * * * * * \n",
      "             * * * * * * * * * * * * * * * * * * * * * * * * * * * * \n",
      "              * * * * * * * * * * * * * * * * * * * * * * * * * * * \n",
      "               * * * * * * * * * * * * * * * * * * * * * * * * * * \n",
      "                * * * * * * * * * * * * * * * * * * * * * * * * * \n",
      "                 * * * * * * * * * * * * * * * * * * * * * * * * \n",
      "                  * * * * * * * * * * * * * * * * * * * * * * * \n",
      "                   * * * * * * * * * * * * * * * * * * * * * * \n",
      "                    * * * * * * * * * * * * * * * * * * * * * \n",
      "                     * * * * * * * * * * * * * * * * * * * * \n",
      "                      * * * * * * * * * * * * * * * * * * * \n",
      "                       * * * * * * * * * * * * * * * * * * \n",
      "                        * * * * * * * * * * * * * * * * * \n",
      "                         * * * * * * * * * * * * * * * * \n",
      "                          * * * * * * * * * * * * * * * \n",
      "                           * * * * * * * * * * * * * * \n",
      "                            * * * * * * * * * * * * * \n",
      "                             * * * * * * * * * * * * \n",
      "                              * * * * * * * * * * * \n",
      "                               * * * * * * * * * * \n",
      "                                * * * * * * * * * \n",
      "                                 * * * * * * * * \n",
      "                                  * * * * * * * \n",
      "                                   * * * * * * \n",
      "                                    * * * * * \n",
      "                                     * * * * \n",
      "                                      * * * \n",
      "                                       * * \n",
      "                                        * \n",
      "                                         \n"
     ]
    }
   ],
   "source": [
    "n = 40\n",
    "for i in range(n):\n",
    "    print(\" \"*(n-i)+\"* \"*(i+1))\n",
    "#     print()\n",
    "for j in range(n,0,-1):\n",
    "    print(\" \",\" \"*(n-j)+\"* \"*(j-1))"
   ]
  },
  {
   "cell_type": "code",
   "execution_count": 91,
   "metadata": {},
   "outputs": [
    {
     "name": "stdout",
     "output_type": "stream",
     "text": [
      "* * * * * \n",
      " * * * * \n",
      "  * * * \n",
      "   * * \n",
      "    * \n"
     ]
    }
   ],
   "source": [
    "n = 5\n",
    "for j in range(n,0,-1):\n",
    "    print(\" \"*(n-j)+\"* \"*j)"
   ]
  },
  {
   "cell_type": "code",
   "execution_count": 145,
   "metadata": {},
   "outputs": [
    {
     "name": "stdout",
     "output_type": "stream",
     "text": [
      "     * \n",
      "    * * \n",
      "   * * * \n",
      "  * * * * \n",
      " * * * * * \n",
      "  * * * * \n",
      "   * * * \n",
      "    * * \n",
      "     * \n",
      "      \n"
     ]
    }
   ],
   "source": [
    "n = 5\n",
    "for i in range(n):\n",
    "    print(\" \"*(n-i)+\"* \"*(i+1))\n",
    "#     print()\n",
    "for j in range(n,0,-1):\n",
    "    print(\" \",\" \"*(n-j)+\"* \"*(j-1))"
   ]
  },
  {
   "cell_type": "code",
   "execution_count": 197,
   "metadata": {},
   "outputs": [
    {
     "name": "stdout",
     "output_type": "stream",
     "text": [
      "Enter Your Num : 7\n",
      "       , \n",
      "      , , \n",
      "     , , , \n",
      "    , , , , \n",
      "   , , , , , \n",
      "  , , , , , , \n",
      " , , , , , , , \n",
      "  , , , , , , \n",
      "   , , , , , \n",
      "    , , , , \n",
      "     , , , \n",
      "      , , \n",
      "       , \n",
      "        \n"
     ]
    }
   ],
   "source": [
    "n = int(input(\"Enter Your Num : \"))\n",
    "for i in range(n):\n",
    "    print(\" \"*(n-i)+\", \"*(i+1))\n",
    "for j in range(n,0,-1):\n",
    "    print(\" \",\" \"*(n-j)+\", \"*(j-1))"
   ]
  },
  {
   "cell_type": "code",
   "execution_count": 1,
   "metadata": {},
   "outputs": [],
   "source": [
    "def calculateArea(length,width):\n",
    "    area = (length*width)\n",
    "    return area"
   ]
  },
  {
   "cell_type": "code",
   "execution_count": 176,
   "metadata": {},
   "outputs": [],
   "source": [
    "def checkTilesFit(plot_width,plot_length,tile_width,tile_length):\n",
    "    plot = plot_width*tile_width\n",
    "    tle = plot_length*tile_length\n",
    "    plot_area = (plot_width*plot_length)\n",
    "    tile_area = (tile_length*tile_width)\n",
    "#     if(plot_length%tile_width==0 and plot_length%tile_length==0):\n",
    "#         return True\n",
    "    if  (plot%tle==0) and (plot_area%tile_area==0):\n",
    "        return True\n",
    "    else:\n",
    "        return False"
   ]
  },
  {
   "cell_type": "code",
   "execution_count": 212,
   "metadata": {},
   "outputs": [],
   "source": [
    "def checkTilesFit(plot_length,plot_width,tile_length,tile_width):\n",
    "    plot_area = plot_length*tile_length\n",
    "    tile_area = tile_length*tile_width\n",
    "    if plot_area%tile_area == 0 and (plot_length%tile_length == 0 or plot_length%tile_length==0) and (plot_width%tile_width == 0 or plot_width%tile_length):\n",
    "        return True\n",
    "    else:\n",
    "        return False\t"
   ]
  },
  {
   "cell_type": "code",
   "execution_count": 213,
   "metadata": {},
   "outputs": [
    {
     "data": {
      "text/plain": [
       "True"
      ]
     },
     "execution_count": 213,
     "metadata": {},
     "output_type": "execute_result"
    }
   ],
   "source": [
    "bool(12%2==0)"
   ]
  },
  {
   "cell_type": "code",
   "execution_count": 214,
   "metadata": {},
   "outputs": [
    {
     "data": {
      "text/plain": [
       "True"
      ]
     },
     "execution_count": 214,
     "metadata": {},
     "output_type": "execute_result"
    }
   ],
   "source": [
    "checkTilesFit(4,3,2,1)"
   ]
  },
  {
   "cell_type": "code",
   "execution_count": 215,
   "metadata": {},
   "outputs": [
    {
     "data": {
      "text/plain": [
       "False"
      ]
     },
     "execution_count": 215,
     "metadata": {},
     "output_type": "execute_result"
    }
   ],
   "source": [
    "checkTilesFit(3,3,2,1)"
   ]
  },
  {
   "cell_type": "code",
   "execution_count": 216,
   "metadata": {},
   "outputs": [
    {
     "data": {
      "text/plain": [
       "True"
      ]
     },
     "execution_count": 216,
     "metadata": {},
     "output_type": "execute_result"
    }
   ],
   "source": [
    "checkTilesFit(4,3,2,2)"
   ]
  },
  {
   "cell_type": "code",
   "execution_count": 217,
   "metadata": {},
   "outputs": [
    {
     "data": {
      "text/plain": [
       "False"
      ]
     },
     "execution_count": 217,
     "metadata": {},
     "output_type": "execute_result"
    }
   ],
   "source": [
    "checkTilesFit(5,3,3,1)"
   ]
  },
  {
   "cell_type": "code",
   "execution_count": 170,
   "metadata": {},
   "outputs": [
    {
     "data": {
      "text/plain": [
       "False"
      ]
     },
     "execution_count": 170,
     "metadata": {},
     "output_type": "execute_result"
    }
   ],
   "source": [
    "bool(8%6==0)"
   ]
  },
  {
   "cell_type": "code",
   "execution_count": 16,
   "metadata": {},
   "outputs": [],
   "source": [
    "paragraph = \"is kashii love you not this is not true true kashii and eman\""
   ]
  },
  {
   "cell_type": "code",
   "execution_count": 17,
   "metadata": {},
   "outputs": [],
   "source": [
    "kashii = paragraph.split(\" \")"
   ]
  },
  {
   "cell_type": "code",
   "execution_count": 18,
   "metadata": {},
   "outputs": [
    {
     "data": {
      "text/plain": [
       "['is',\n",
       " 'kashii',\n",
       " 'love',\n",
       " 'you',\n",
       " 'not',\n",
       " 'this',\n",
       " 'is',\n",
       " 'not',\n",
       " 'true',\n",
       " 'true',\n",
       " 'kashii',\n",
       " 'and',\n",
       " 'eman']"
      ]
     },
     "execution_count": 18,
     "metadata": {},
     "output_type": "execute_result"
    }
   ],
   "source": [
    "kashii"
   ]
  },
  {
   "cell_type": "code",
   "execution_count": 46,
   "metadata": {},
   "outputs": [],
   "source": [
    "waqar = []\n",
    "for word in kashii:\n",
    "    if not word in waqar:\n",
    "        waqar.append(word)"
   ]
  },
  {
   "cell_type": "code",
   "execution_count": 47,
   "metadata": {},
   "outputs": [
    {
     "data": {
      "text/plain": [
       "['is', 'kashii', 'love', 'you', 'not', 'this', 'true', 'and', 'eman']"
      ]
     },
     "execution_count": 47,
     "metadata": {},
     "output_type": "execute_result"
    }
   ],
   "source": [
    "waqar"
   ]
  },
  {
   "cell_type": "code",
   "execution_count": 48,
   "metadata": {},
   "outputs": [
    {
     "data": {
      "text/plain": [
       "['is',\n",
       " 'kashii',\n",
       " 'love',\n",
       " 'you',\n",
       " 'not',\n",
       " 'this',\n",
       " 'is',\n",
       " 'not',\n",
       " 'true',\n",
       " 'true',\n",
       " 'kashii',\n",
       " 'and',\n",
       " 'eman']"
      ]
     },
     "execution_count": 48,
     "metadata": {},
     "output_type": "execute_result"
    }
   ],
   "source": [
    "kashii"
   ]
  },
  {
   "cell_type": "code",
   "execution_count": 54,
   "metadata": {},
   "outputs": [
    {
     "name": "stdout",
     "output_type": "stream",
     "text": [
      "is\n",
      "kashii\n",
      "love\n",
      "you\n",
      "not\n",
      "this\n",
      "true\n",
      "and\n",
      "eman\n"
     ]
    }
   ],
   "source": [
    "for w in waqar:\n",
    "    if w in kashii:\n",
    "        print(w)"
   ]
  },
  {
   "cell_type": "code",
   "execution_count": 51,
   "metadata": {},
   "outputs": [
    {
     "data": {
      "text/plain": [
       "'eman'"
      ]
     },
     "execution_count": 51,
     "metadata": {},
     "output_type": "execute_result"
    }
   ],
   "source": [
    "w"
   ]
  },
  {
   "cell_type": "code",
   "execution_count": null,
   "metadata": {},
   "outputs": [],
   "source": []
  }
 ],
 "metadata": {
  "kernelspec": {
   "display_name": "Python 3",
   "language": "python",
   "name": "python3"
  },
  "language_info": {
   "codemirror_mode": {
    "name": "ipython",
    "version": 3
   },
   "file_extension": ".py",
   "mimetype": "text/x-python",
   "name": "python",
   "nbconvert_exporter": "python",
   "pygments_lexer": "ipython3",
   "version": "3.8.5"
  }
 },
 "nbformat": 4,
 "nbformat_minor": 4
}
